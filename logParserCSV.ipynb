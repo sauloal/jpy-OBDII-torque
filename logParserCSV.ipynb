{
 "cells": [
  {
   "cell_type": "code",
   "execution_count": null,
   "metadata": {},
   "outputs": [],
   "source": [
    "import os"
   ]
  },
  {
   "cell_type": "code",
   "execution_count": null,
   "metadata": {},
   "outputs": [],
   "source": [
    "import sys\n",
    "print(\"SYS\", sys.version)"
   ]
  },
  {
   "cell_type": "code",
   "execution_count": null,
   "metadata": {},
   "outputs": [],
   "source": [
    "from collections import OrderedDict"
   ]
  },
  {
   "cell_type": "code",
   "execution_count": null,
   "metadata": {},
   "outputs": [],
   "source": [
    "import datetime\n",
    "from datetime import timedelta"
   ]
  },
  {
   "cell_type": "code",
   "execution_count": null,
   "metadata": {},
   "outputs": [],
   "source": [
    "from dateutil import parser as date_parser\n",
    "from dateutil import _version as dateutil_version\n",
    "print(\"dateutil\", dateutil_version.version)"
   ]
  },
  {
   "cell_type": "code",
   "execution_count": null,
   "metadata": {},
   "outputs": [],
   "source": [
    "import pandas as pd\n",
    "print(\"pandas\", pd.__version__)"
   ]
  },
  {
   "cell_type": "code",
   "execution_count": null,
   "metadata": {},
   "outputs": [],
   "source": [
    "from IPython.display import display\n",
    "from IPython import __version__ as IPython_version\n",
    "print(\"IPython\", IPython_version)"
   ]
  },
  {
   "cell_type": "code",
   "execution_count": null,
   "metadata": {},
   "outputs": [],
   "source": [
    "infolder  = '2018-Auris/Logs'"
   ]
  },
  {
   "cell_type": "code",
   "execution_count": null,
   "metadata": {},
   "outputs": [],
   "source": [
    "DB_FOLDER = 'db'"
   ]
  },
  {
   "cell_type": "code",
   "execution_count": null,
   "metadata": {},
   "outputs": [],
   "source": [
    "MIN_TIME_BETWEEN_TRIPS_IN_MINUTES = 5"
   ]
  },
  {
   "cell_type": "code",
   "execution_count": null,
   "metadata": {},
   "outputs": [],
   "source": [
    "months    = ',Jan,Feb,Mar,Apr,May,Jun,Jul,Aug,Sep,Oct,Nov,Dec'.split(',')"
   ]
  },
  {
   "cell_type": "code",
   "execution_count": null,
   "metadata": {},
   "outputs": [],
   "source": [
    "prefix    = infolder.replace('/','_')"
   ]
  },
  {
   "cell_type": "code",
   "execution_count": null,
   "metadata": {},
   "outputs": [],
   "source": [
    "MIN_TIME_BETWEEN_TRIPS_IN_SECONDS = MIN_TIME_BETWEEN_TRIPS_IN_MINUTES * 60"
   ]
  },
  {
   "cell_type": "code",
   "execution_count": null,
   "metadata": {},
   "outputs": [],
   "source": [
    "#https://stackoverflow.com/questions/3463930/how-to-round-the-minute-of-a-datetime-object-python\n",
    "def roundTime(dt=None, roundTo=1):\n",
    "   \"\"\"Round a datetime object to any time laps in seconds\n",
    "   dt : datetime.datetime object, default now.\n",
    "   roundTo : Closest number of seconds to round to, default 1 minute.\n",
    "   Author: Thierry Husson 2012 - Use it as you want but don't blame me.\n",
    "   \"\"\"\n",
    "   if dt == None : dt = datetime.datetime.now()\n",
    "   seconds  = (dt.replace(tzinfo=None) - dt.min).seconds\n",
    "   rounding = (seconds+roundTo/2) // roundTo * roundTo\n",
    "   return dt + datetime.timedelta(0,rounding-seconds,-dt.microsecond)"
   ]
  },
  {
   "cell_type": "code",
   "execution_count": null,
   "metadata": {},
   "outputs": [],
   "source": [
    "def toFloat(val):\n",
    "    try:\n",
    "        return float(val)\n",
    "    except ValueError:\n",
    "        return None"
   ]
  },
  {
   "cell_type": "code",
   "execution_count": null,
   "metadata": {},
   "outputs": [],
   "source": [
    "def toDate(val):\n",
    "    try:\n",
    "        d = date_parser.parse(val)\n",
    "        #e = d.astimezone(tz=None)\n",
    "        f = d.replace(tzinfo=None)\n",
    "        g = roundTime(f,roundTo=1)\n",
    "        return g\n",
    "    except ValueError:\n",
    "        return None"
   ]
  },
  {
   "cell_type": "code",
   "execution_count": null,
   "metadata": {},
   "outputs": [],
   "source": [
    "def guessType(val):\n",
    "    if val is None:\n",
    "        return lambda x: None\n",
    "    \n",
    "    try:\n",
    "        val = float(val)\n",
    "#         print(\"guessType FLOAT\", val)\n",
    "        return toFloat\n",
    "    except:\n",
    "        pass\n",
    "\n",
    "    try:\n",
    "        val = date_parser.parse(val)\n",
    "#         print(\"guessType DATE\", val)\n",
    "        return toDate\n",
    "    except:\n",
    "        pass\n",
    "    \n",
    "#     print(\"guessType STR\", val)\n",
    "    return lambda x: str(x)"
   ]
  },
  {
   "cell_type": "code",
   "execution_count": null,
   "metadata": {},
   "outputs": [],
   "source": [
    "files    = [f for f in os.listdir(infolder) if f.endswith('.csv') and f.startswith('trackLog-') and not os.path.isdir(f) ]"
   ]
  },
  {
   "cell_type": "code",
   "execution_count": null,
   "metadata": {},
   "outputs": [],
   "source": [
    "print( \"\\n\".join( files ) )"
   ]
  },
  {
   "cell_type": "code",
   "execution_count": null,
   "metadata": {},
   "outputs": [],
   "source": [
    "assert len(files) > 0, \"NO FILES FOUND\""
   ]
  },
  {
   "cell_type": "code",
   "execution_count": null,
   "metadata": {},
   "outputs": [],
   "source": [
    "orderedFiles = {}\n",
    "\n",
    "for f in files:\n",
    "    g          = f.replace('trackLog-','').replace('.csv','')\n",
    "    date, hour = g.split(\"_\")\n",
    "    yr, mo, da = date.split('-')\n",
    "    hr, mi, se = [int(h) for h in hour.split('-')]\n",
    "    yr, da     = int(yr), int(da)\n",
    "    mo         = months.index(mo)\n",
    "    orderedFiles[(yr, mo, da, hr, mi, se)] = os.path.join(infolder, f)\n",
    "\n",
    "orderedFiles = OrderedDict(sorted(orderedFiles.items()))\n",
    "\n",
    "#print(orderedFiles)"
   ]
  },
  {
   "cell_type": "code",
   "execution_count": null,
   "metadata": {},
   "outputs": [],
   "source": [
    "data    = OrderedDict()\n",
    "headers = []\n",
    "types   = []\n",
    "\n",
    "for (yr, mo, da, hr, mi, se), f in orderedFiles.items():\n",
    "    print(\"{2:02d}/{1:02d}/{0:02d} {3:02d}:{4:02d}:{5:02d} - {6}\".format(yr, mo, da, hr, mi, se, f))\n",
    "    with open(f, 'r') as fhd:\n",
    "        for ln, line in enumerate(fhd):\n",
    "            line = line.strip()\n",
    "#             print(line)\n",
    "            #if ln == 20: break\n",
    "            cols = [ l.strip() for l in line.split(',') ]\n",
    "            \n",
    "            if cols[-1] == '':\n",
    "                cols = cols[:-1]\n",
    "                \n",
    "            if cols[0] == \"GPS Time\":\n",
    "                headers = cols\n",
    "                types   = [None]*len(headers)\n",
    "#                 print(headers)\n",
    "                for h in headers:\n",
    "                    if h not in data:\n",
    "                        if len(data.keys()) > 0:\n",
    "                            data[h] = [None] * len(data[list(data.keys())[0]])\n",
    "                        else:\n",
    "                            data[h] = []\n",
    "            else:\n",
    "                #assert len(cols) == len(headers), \"number of columns for file {} line {} differs {} != {}\".format(\n",
    "                #    f, ln, len(cols), len(headers))\n",
    "                \n",
    "                if len(cols) != len(headers):\n",
    "                    print(\"number of columns for file {} line {} differs {} != {}\".format(\n",
    "                    f, ln, len(cols), len(headers)))\n",
    "                    \n",
    "                    continue\n",
    "\n",
    "                for h in data:\n",
    "                    if h in headers:\n",
    "                        hp  = headers.index(h)\n",
    "                        val = cols[hp]\n",
    "                        if val in ['-', '', u'∞']:\n",
    "                            data[h].append( None )\n",
    "                        else:\n",
    "                            if types[hp] is None:\n",
    "                                types[hp] = guessType(val)\n",
    "                            val = types[hp](val)\n",
    "                            data[h].append( val  )\n",
    "                    else:\n",
    "                        data[h].append( None )"
   ]
  },
  {
   "cell_type": "code",
   "execution_count": null,
   "metadata": {},
   "outputs": [],
   "source": [
    "#for f, d in data.items():\n",
    "#    print(u\"{:55s} {:12,d}\".format(f, len(d)))"
   ]
  },
  {
   "cell_type": "code",
   "execution_count": null,
   "metadata": {},
   "outputs": [],
   "source": [
    "df = pd.DataFrame.from_dict(data)\n",
    "df.dropna(axis=1, how='all', inplace=True)\n",
    "# with pd.option_context(\"display.max_columns\",0):\n",
    "#     display(df)"
   ]
  },
  {
   "cell_type": "code",
   "execution_count": null,
   "metadata": {},
   "outputs": [],
   "source": [
    "cols = list(df)\n",
    "cols\n",
    "nunique = df.apply(pd.Series.nunique)\n",
    "nunique\n",
    "cols_to_drop = nunique[nunique == 1].index\n",
    "cols_to_drop\n",
    "df.drop(cols_to_drop, axis=1, inplace=True)"
   ]
  },
  {
   "cell_type": "code",
   "execution_count": null,
   "metadata": {},
   "outputs": [],
   "source": [
    "with pd.option_context(\"display.max_columns\",0):\n",
    "    display(df)"
   ]
  },
  {
   "cell_type": "code",
   "execution_count": null,
   "metadata": {},
   "outputs": [],
   "source": [
    "print(\"\\n\".join([\"{:55} {}\".format(k,v) for k,v in sorted(zip(df.dtypes.keys(), df.dtypes.values))]))"
   ]
  },
  {
   "cell_type": "code",
   "execution_count": null,
   "metadata": {},
   "outputs": [],
   "source": [
    "print(df.shape)\n",
    "df.dropna(subset=['GPS Time'],inplace=True)\n",
    "df.reset_index(inplace=True, drop=True)\n",
    "# df.drop(columns=['level_0'], inplace=True)\n",
    "print(df.shape)\n",
    "# df"
   ]
  },
  {
   "cell_type": "code",
   "execution_count": null,
   "metadata": {},
   "outputs": [],
   "source": [
    "df[\"GPS Time DIff\"] = df[\"GPS Time\"] - df[\"GPS Time\"].shift()\n",
    "df.iloc[0,df.columns.get_loc(\"GPS Time DIff\")] = timedelta(seconds=MIN_TIME_BETWEEN_TRIPS_IN_SECONDS*2)\n",
    "df[\"GPS Time DIff\"]"
   ]
  },
  {
   "cell_type": "code",
   "execution_count": null,
   "metadata": {},
   "outputs": [],
   "source": [
    "df[\"GPS Time New Trip\"] = df[\"GPS Time DIff\"] >= timedelta(seconds=MIN_TIME_BETWEEN_TRIPS_IN_SECONDS)\n",
    "#df[\"GPS Time New Trip\"]"
   ]
  },
  {
   "cell_type": "code",
   "execution_count": null,
   "metadata": {},
   "outputs": [],
   "source": [
    "df[\"GPS Time Trip Num\"]  = df[\"GPS Time New Trip\"].cumsum()\n",
    "# df[\"GPS Time Trip Num\"]"
   ]
  },
  {
   "cell_type": "code",
   "execution_count": null,
   "metadata": {},
   "outputs": [],
   "source": [
    "df[\"GPS Time Trip ID\"] = df[\"GPS Time\"]\n",
    "\n",
    "for trip_num in df[\"GPS Time Trip Num\"].unique():\n",
    "    trip_vals    = df[[\"GPS Time\",\"GPS Time Trip Num\"]][df[\"GPS Time Trip Num\"] == trip_num]\n",
    "    num_vals     = len(trip_vals)\n",
    "    min_time     = trip_vals[\"GPS Time\"].min()\n",
    "    max_time     = trip_vals[\"GPS Time\"].max()\n",
    "    del_time     = max_time - min_time\n",
    "    min_time_str = str(min_time).replace('-','_').replace(':','_').replace(' ','_')\n",
    "    max_time_str = str(max_time).replace('-','_').replace(':','_').replace(' ','_')\n",
    "    del_time_str = str(del_time).replace('-','_').replace(':','_').replace(' ','_')\n",
    "    \n",
    "    print(\"trip_num\", trip_num, \n",
    "          \"num_vals\", num_vals, \n",
    "          \"min_time\", min_time_str, \n",
    "          \"max_time\", max_time_str, \n",
    "          \"del_time\", del_time_str)\n",
    "    \n",
    "    df.iloc[trip_vals.index , df.columns.get_loc(\"GPS Time Trip ID\")] = min_time_str\n",
    "    \n",
    "# df[\"GPS Time Trip ID\"]\n",
    "# df[\"GPS Time Trip ID\"] = df[\"GPS Time Trip ID\"].astype('category')\n",
    "df[\"GPS Time Trip ID\"].unique(), len(df[\"GPS Time Trip ID\"].unique())"
   ]
  },
  {
   "cell_type": "code",
   "execution_count": null,
   "metadata": {},
   "outputs": [],
   "source": [
    "df[[\"GPS Time\", \"GPS Time Trip Num\", \"GPS Time Trip ID\"]][df[\"GPS Time New Trip\"]]"
   ]
  },
  {
   "cell_type": "code",
   "execution_count": null,
   "metadata": {},
   "outputs": [],
   "source": [
    "# df"
   ]
  },
  {
   "cell_type": "code",
   "execution_count": null,
   "metadata": {},
   "outputs": [],
   "source": [
    "print(\"shape before\", df.shape)\n",
    "\n",
    "df2 = df.drop_duplicates(subset=\"GPS Time\", keep=\"last\")\n",
    "#         .drop([\"GPS Time DIff\",\"GPS Time New Trip\"], 1)\n",
    "\n",
    "print(\"shape after \", df2.shape)"
   ]
  },
  {
   "cell_type": "code",
   "execution_count": null,
   "metadata": {},
   "outputs": [],
   "source": [
    "df3 = df2.groupby(df2[\"GPS Time Trip ID\"], as_index=True, sort=False, group_keys=True)"
   ]
  },
  {
   "cell_type": "code",
   "execution_count": null,
   "metadata": {},
   "outputs": [],
   "source": [
    "groups = list(df3.groups.keys())"
   ]
  },
  {
   "cell_type": "code",
   "execution_count": null,
   "metadata": {},
   "outputs": [],
   "source": [
    "display(df3.get_group(groups[0]))"
   ]
  },
  {
   "cell_type": "code",
   "execution_count": null,
   "metadata": {},
   "outputs": [],
   "source": [
    "display(df3.get_group(groups[-1]))"
   ]
  },
  {
   "cell_type": "code",
   "execution_count": null,
   "metadata": {},
   "outputs": [],
   "source": [
    "xlsx = os.path.join(DB_FOLDER, \"{}_batch_from_{}-to_{}.xlsx\".format( prefix, groups[0], groups[-1]))\n",
    "\n",
    "print('saving to Excel', xlsx)\n",
    "\n",
    "df2.to_excel(xlsx)"
   ]
  },
  {
   "cell_type": "code",
   "execution_count": null,
   "metadata": {},
   "outputs": [],
   "source": [
    "for gn, group in enumerate(df3.groups):\n",
    "    g            = df3.get_group(group)\n",
    "    h            = g.dropna(axis=1, how='all')\n",
    "    cols         = list(h)\n",
    "    nunique      = h.apply(pd.Series.nunique)\n",
    "    cols_to_drop = nunique[nunique == 1].index\n",
    "    i            = h.drop(cols_to_drop, axis=1)\n",
    "    \n",
    "    xlsx = os.path.join(DB_FOLDER, \"{}_trackLog-{}.xlsx\".format( prefix, group))\n",
    "    \n",
    "    shapes = \" | \".join([\"{} - rows {:5,d} columns {:5,d}\".format(n, r, c) for n, (r, c) in (  ('all' , g.shape), \n",
    "                                                                                               ('na'  , h.shape), \n",
    "                                                                                               ('drop', i.shape))])\n",
    "    \n",
    "    print('saving to Excel {:3d}/{:3d} {}\\n\\t{}'.format(gn+1, len(df3.groups), xlsx, shapes))\n",
    "    i.to_excel(xlsx)\n",
    "\n",
    "#     display( g )"
   ]
  },
  {
   "cell_type": "code",
   "execution_count": null,
   "metadata": {},
   "outputs": [],
   "source": [
    "for f in orderedFiles.values():\n",
    "#     t = f+\".done\"\n",
    "#     print( \"renaming\", f, \"to\", t )\n",
    "#     os.rename(f, t)\n",
    "    if os.path.exists(f):\n",
    "        print( \"compressing\", f )\n",
    "        !gzip -1 $f\n",
    "    else:\n",
    "        print( f, \"already compressed\" )"
   ]
  },
  {
   "cell_type": "code",
   "execution_count": null,
   "metadata": {},
   "outputs": [],
   "source": []
  }
 ],
 "metadata": {
  "language_info": {
   "name": "python",
   "pygments_lexer": "ipython3"
  }
 },
 "nbformat": 4,
 "nbformat_minor": 2
}
