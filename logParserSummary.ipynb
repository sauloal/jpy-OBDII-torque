{
 "cells": [
  {
   "cell_type": "code",
   "execution_count": null,
   "metadata": {},
   "outputs": [],
   "source": [
    "import json\n",
    "print('json', json.__version__)"
   ]
  },
  {
   "cell_type": "code",
   "execution_count": null,
   "metadata": {},
   "outputs": [],
   "source": [
    "from collections import OrderedDict"
   ]
  },
  {
   "cell_type": "code",
   "execution_count": null,
   "metadata": {},
   "outputs": [],
   "source": [
    "from functools import reduce"
   ]
  },
  {
   "cell_type": "code",
   "execution_count": null,
   "metadata": {},
   "outputs": [],
   "source": [
    "import pandas as pd\n",
    "print(\"Pandas\", pd.__version__)"
   ]
  },
  {
   "cell_type": "code",
   "execution_count": null,
   "metadata": {},
   "outputs": [],
   "source": [
    "import numpy as np\n",
    "print('numpy', np.__version__)"
   ]
  },
  {
   "cell_type": "code",
   "execution_count": null,
   "metadata": {},
   "outputs": [],
   "source": [
    "import matplotlib\n",
    "print(\"matplotlib\", matplotlib.__version__)"
   ]
  },
  {
   "cell_type": "code",
   "execution_count": null,
   "metadata": {},
   "outputs": [],
   "source": [
    "import matplotlib.pyplot as plt\n",
    "from matplotlib.pyplot import figure"
   ]
  },
  {
   "cell_type": "code",
   "execution_count": null,
   "metadata": {},
   "outputs": [],
   "source": [
    "%matplotlib inline"
   ]
  },
  {
   "cell_type": "code",
   "execution_count": null,
   "metadata": {},
   "outputs": [],
   "source": [
    "import manager"
   ]
  },
  {
   "cell_type": "code",
   "execution_count": null,
   "metadata": {},
   "outputs": [],
   "source": [
    "cfg = json.load(open('config.json'))\n",
    "print('config', cfg)"
   ]
  },
  {
   "cell_type": "code",
   "execution_count": null,
   "metadata": {},
   "outputs": [],
   "source": [
    "in_folder   = cfg['in_folder']"
   ]
  },
  {
   "cell_type": "code",
   "execution_count": null,
   "metadata": {},
   "outputs": [],
   "source": [
    "db_folder   = cfg['db_folder']"
   ]
  },
  {
   "cell_type": "code",
   "execution_count": null,
   "metadata": {},
   "outputs": [],
   "source": [
    "db_date_file_pairs = manager.get_db_date_files(db_folder, in_folder)\n",
    "# db_date_file_pairs"
   ]
  },
  {
   "cell_type": "code",
   "execution_count": null,
   "metadata": {},
   "outputs": [],
   "source": [
    "assert len(db_date_file_pairs) > 0, \"NO FILES FOUND\""
   ]
  },
  {
   "cell_type": "code",
   "execution_count": null,
   "metadata": {},
   "outputs": [],
   "source": [
    "#print( \"\\n\".join( [ \"{:3d}/{:3d} {}\".format(fn+1, len(db_date_file_pairs), f) for fn, (d,f) in enumerate(db_date_file_pairs.items())if f != '' ] ) )"
   ]
  },
  {
   "cell_type": "code",
   "execution_count": null,
   "metadata": {},
   "outputs": [],
   "source": [
    "describes = OrderedDict()\n",
    "all_data = None\n",
    "\n",
    "for fn, (d,f) in enumerate(db_date_file_pairs.items()):\n",
    "    print(\"{:3d}/{:3d} {} {}\".format(fn+1, len(db_date_file_pairs), d, f))\n",
    "    df             = pd.read_excel(f)\n",
    "#     print(df)\n",
    "    dsc = df.describe().transpose()\n",
    "    all_data = pd.concat([all_data, df.transpose()], axis=1, join_axes=[all_data.index]) if all_data is not None else df.transpose()\n",
    "#     print(dsc)\n",
    "    describes[d] = [ f, dsc ]\n",
    "    if fn ==3: break"
   ]
  },
  {
   "cell_type": "code",
   "execution_count": null,
   "metadata": {},
   "outputs": [],
   "source": [
    "all_data_new = pd.DataFrame(all_data.transpose().to_dict())\n",
    "all_data_new = all_data_new.set_index('GPS Time')\n",
    "all_data_new"
   ]
  },
  {
   "cell_type": "code",
   "execution_count": null,
   "metadata": {},
   "outputs": [],
   "source": [
    "all_data_new.describe()"
   ]
  },
  {
   "cell_type": "code",
   "execution_count": null,
   "metadata": {},
   "outputs": [],
   "source": [
    "figure(figsize=(20,5))\n",
    "all_data_new.boxplot()"
   ]
  },
  {
   "cell_type": "code",
   "execution_count": null,
   "metadata": {},
   "outputs": [],
   "source": [
    "for col in all_data_new.columns:\n",
    "    print(col)\n",
    "    ad = all_data_new[[col]].dropna()\n",
    "#     print(ad, ad.columns, ad.index)\n",
    "    figure(figsize=(20,5))\n",
    "    ad.boxplot()\n",
    "    plt.show()"
   ]
  },
  {
   "cell_type": "code",
   "execution_count": null,
   "metadata": {},
   "outputs": [],
   "source": [
    "for col in all_data_new.columns:\n",
    "    print(col)\n",
    "    ad = all_data_new[[col]].dropna()\n",
    "#     print(ad, ad.columns, ad.index)\n",
    "    \n",
    "    if len(ad.index) == 0:\n",
    "        continue\n",
    "        \n",
    "    figure(figsize=(20,5))\n",
    "    try:\n",
    "        ad.hist()\n",
    "        plt.show()\n",
    "    except ValueError:\n",
    "        pass\n"
   ]
  },
  {
   "cell_type": "code",
   "execution_count": null,
   "metadata": {},
   "outputs": [],
   "source": [
    "#https://machinelearningmastery.com/quick-and-dirty-data-analysis-with-pandas/\n",
    "from pandas.plotting import scatter_matrix\n",
    "scatter_matrix(all_data_new, alpha=0.2, figsize=(20, 20), diagonal='kde')"
   ]
  },
  {
   "cell_type": "code",
   "execution_count": null,
   "metadata": {},
   "outputs": [],
   "source": [
    "all_data_new.to_csv('all_data.csv')"
   ]
  },
  {
   "cell_type": "code",
   "execution_count": null,
   "metadata": {},
   "outputs": [],
   "source": [
    "sfx  = list(k for k in describes.keys())\n",
    "vals = [ v[1] for v in describes.values() ]\n",
    "# print(sfx)\n",
    "# print(vals)\n",
    "descriptions = pd.concat(vals, keys=sfx).transpose()\n",
    "descriptions"
   ]
  },
  {
   "cell_type": "code",
   "execution_count": null,
   "metadata": {},
   "outputs": [],
   "source": [
    "descriptions.to_csv('stats.csv')"
   ]
  },
  {
   "cell_type": "code",
   "execution_count": null,
   "metadata": {},
   "outputs": [],
   "source": [
    "# stats = sorted(list(set([ l2 for l1, l2 in descriptions.columns ])))\n",
    "stats = sorted(list(set([str(v) for v in descriptions.columns.get_level_values(1)])))\n",
    "print(stats)"
   ]
  },
  {
   "cell_type": "code",
   "execution_count": null,
   "metadata": {},
   "outputs": [],
   "source": [
    "indexes = list(descriptions.index)\n",
    "indexes"
   ]
  },
  {
   "cell_type": "code",
   "execution_count": null,
   "metadata": {},
   "outputs": [],
   "source": [
    "def bar_plotter(title, df):\n",
    "    cols = df.columns.get_level_values(0)\n",
    "    num_cols = len(cols)\n",
    "#     print(num_cols)\n",
    "    means = df.loc['mean']\n",
    "    std = df.loc['std']\n",
    "    mins = df.loc['min']\n",
    "    maxes = df.loc['max']\n",
    "    figure(figsize=(20,5))\n",
    "    plt.title(title)\n",
    "    plt.errorbar(cols, means, std, fmt='ok', lw=3)\n",
    "    plt.errorbar(cols, means, [means - mins, maxes - means],\n",
    "                 fmt='.k', ecolor='gray', lw=1)\n",
    "#     plt.xlim(-1, num_cols)"
   ]
  },
  {
   "cell_type": "code",
   "execution_count": null,
   "metadata": {},
   "outputs": [],
   "source": [
    "plotters = OrderedDict((\n",
    "#     (('count',), lambda x, y: y.plot.bar(title=x) ),\n",
    "    (('mean','std','min','max'), bar_plotter ),\n",
    "))\n",
    "print(plotters)"
   ]
  },
  {
   "cell_type": "code",
   "execution_count": null,
   "metadata": {},
   "outputs": [],
   "source": [
    "for stat in stats:\n",
    "#     print(stat)\n",
    "\n",
    "    sc = descriptions.columns.get_level_values(1)==stat\n",
    "#     print(sc, sum(sc))\n",
    "\n",
    "    sd = descriptions.iloc[:,sc]\n",
    "#     print(sd)\n",
    "    if len(sd.columns) == 0:\n",
    "        continue\n",
    "    \n",
    "    for cols, plot_type in plotters.items():\n",
    "        cols = list(cols)\n",
    "#         print(' cols', cols)#, 'plot_type', plot_type)\n",
    "        sds = sd.loc[cols]\n",
    "#         sds.columns\n",
    "        sds.columns = sds.columns.droplevel(1)\n",
    "#         print(sds)\n",
    "        plot_type(stat, sds)\n",
    "        plt.show()\n",
    "#     break"
   ]
  },
  {
   "cell_type": "code",
   "execution_count": null,
   "metadata": {},
   "outputs": [],
   "source": []
  }
 ],
 "metadata": {
  "language_info": {
   "name": "python",
   "pygments_lexer": "ipython3"
  }
 },
 "nbformat": 4,
 "nbformat_minor": 2
}
